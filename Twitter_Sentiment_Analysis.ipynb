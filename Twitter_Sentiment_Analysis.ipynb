{
  "nbformat": 4,
  "nbformat_minor": 0,
  "metadata": {
    "colab": {
      "name": "Twitter Sentiment Analysis",
      "provenance": [],
      "toc_visible": true,
      "authorship_tag": "ABX9TyN2UZ4cPrZKN3ke35d8+KWV",
      "include_colab_link": true
    },
    "kernelspec": {
      "display_name": "Python 3",
      "name": "python3"
    }
  },
  "cells": [
    {
      "cell_type": "markdown",
      "metadata": {
        "id": "view-in-github",
        "colab_type": "text"
      },
      "source": [
        "<a href=\"https://colab.research.google.com/github/Akasonal/Twitter-Sentiment-Analysis-using-LSTM/blob/main/Twitter_Sentiment_Analysis.ipynb\" target=\"_parent\"><img src=\"https://colab.research.google.com/assets/colab-badge.svg\" alt=\"Open In Colab\"/></a>"
      ]
    },
    {
      "cell_type": "code",
      "metadata": {
        "id": "s66UXYXreqdc"
      },
      "source": [
        "import tensorflow.keras as keras"
      ],
      "execution_count": 1,
      "outputs": []
    },
    {
      "cell_type": "code",
      "metadata": {
        "id": "U2k2osRku3lB"
      },
      "source": [
        "from keras.preprocessing.sequence import pad_sequences\r\n",
        "from keras.models import Sequential\r\n",
        "from keras.layers import SimpleRNN,Dense,Activation,Embedding,LSTM\r\n",
        "from keras import optimizers\r\n",
        "from keras.utils import to_categorical\r\n",
        "from keras.wrappers.scikit_learn import KerasClassifier\r\n",
        "from keras.preprocessing.text import one_hot\r\n",
        "import numpy as np\r\n",
        "import pandas as pd"
      ],
      "execution_count": 2,
      "outputs": []
    },
    {
      "cell_type": "markdown",
      "metadata": {
        "id": "HBbTQmZEIFDA"
      },
      "source": [
        "## Understading and Pre processing the data"
      ]
    },
    {
      "cell_type": "code",
      "metadata": {
        "id": "XAUt97K3xclE",
        "colab": {
          "base_uri": "https://localhost:8080/",
          "height": 197
        },
        "outputId": "f4848d9d-e625-46aa-fc24-55ecb919636c"
      },
      "source": [
        "df=pd.read_csv(\"train.csv\")\r\n",
        "df.head()"
      ],
      "execution_count": 3,
      "outputs": [
        {
          "output_type": "execute_result",
          "data": {
            "text/html": [
              "<div>\n",
              "<style scoped>\n",
              "    .dataframe tbody tr th:only-of-type {\n",
              "        vertical-align: middle;\n",
              "    }\n",
              "\n",
              "    .dataframe tbody tr th {\n",
              "        vertical-align: top;\n",
              "    }\n",
              "\n",
              "    .dataframe thead th {\n",
              "        text-align: right;\n",
              "    }\n",
              "</style>\n",
              "<table border=\"1\" class=\"dataframe\">\n",
              "  <thead>\n",
              "    <tr style=\"text-align: right;\">\n",
              "      <th></th>\n",
              "      <th>textID</th>\n",
              "      <th>text</th>\n",
              "      <th>selected_text</th>\n",
              "      <th>sentiment</th>\n",
              "    </tr>\n",
              "  </thead>\n",
              "  <tbody>\n",
              "    <tr>\n",
              "      <th>0</th>\n",
              "      <td>cb774db0d1</td>\n",
              "      <td>I`d have responded, if I were going</td>\n",
              "      <td>I`d have responded, if I were going</td>\n",
              "      <td>neutral</td>\n",
              "    </tr>\n",
              "    <tr>\n",
              "      <th>1</th>\n",
              "      <td>549e992a42</td>\n",
              "      <td>Sooo SAD I will miss you here in San Diego!!!</td>\n",
              "      <td>Sooo SAD</td>\n",
              "      <td>negative</td>\n",
              "    </tr>\n",
              "    <tr>\n",
              "      <th>2</th>\n",
              "      <td>088c60f138</td>\n",
              "      <td>my boss is bullying me...</td>\n",
              "      <td>bullying me</td>\n",
              "      <td>negative</td>\n",
              "    </tr>\n",
              "    <tr>\n",
              "      <th>3</th>\n",
              "      <td>9642c003ef</td>\n",
              "      <td>what interview! leave me alone</td>\n",
              "      <td>leave me alone</td>\n",
              "      <td>negative</td>\n",
              "    </tr>\n",
              "    <tr>\n",
              "      <th>4</th>\n",
              "      <td>358bd9e861</td>\n",
              "      <td>Sons of ****, why couldn`t they put them on t...</td>\n",
              "      <td>Sons of ****,</td>\n",
              "      <td>negative</td>\n",
              "    </tr>\n",
              "  </tbody>\n",
              "</table>\n",
              "</div>"
            ],
            "text/plain": [
              "       textID  ... sentiment\n",
              "0  cb774db0d1  ...   neutral\n",
              "1  549e992a42  ...  negative\n",
              "2  088c60f138  ...  negative\n",
              "3  9642c003ef  ...  negative\n",
              "4  358bd9e861  ...  negative\n",
              "\n",
              "[5 rows x 4 columns]"
            ]
          },
          "metadata": {
            "tags": []
          },
          "execution_count": 3
        }
      ]
    },
    {
      "cell_type": "code",
      "metadata": {
        "colab": {
          "base_uri": "https://localhost:8080/"
        },
        "id": "AZiItup5H_w9",
        "outputId": "60d6148d-80ec-4317-9ba7-868bc871098e"
      },
      "source": [
        "df.shape   #number of rows and columns present in dataset"
      ],
      "execution_count": 4,
      "outputs": [
        {
          "output_type": "execute_result",
          "data": {
            "text/plain": [
              "(27481, 4)"
            ]
          },
          "metadata": {
            "tags": []
          },
          "execution_count": 4
        }
      ]
    },
    {
      "cell_type": "code",
      "metadata": {
        "colab": {
          "base_uri": "https://localhost:8080/"
        },
        "id": "Xwlq4Hc8IPXz",
        "outputId": "0add65e0-f36d-4bff-d4c6-3486e9cad1f1"
      },
      "source": [
        "df.columns   #print index of columns"
      ],
      "execution_count": 5,
      "outputs": [
        {
          "output_type": "execute_result",
          "data": {
            "text/plain": [
              "Index(['textID', 'text', 'selected_text', 'sentiment'], dtype='object')"
            ]
          },
          "metadata": {
            "tags": []
          },
          "execution_count": 5
        }
      ]
    },
    {
      "cell_type": "code",
      "metadata": {
        "colab": {
          "base_uri": "https://localhost:8080/"
        },
        "id": "s834_nIoIXoy",
        "outputId": "9a87ade8-879a-4659-dd14-ec9ba94e82e4"
      },
      "source": [
        "df.sentiment.unique()"
      ],
      "execution_count": 6,
      "outputs": [
        {
          "output_type": "execute_result",
          "data": {
            "text/plain": [
              "array(['neutral', 'negative', 'positive'], dtype=object)"
            ]
          },
          "metadata": {
            "tags": []
          },
          "execution_count": 6
        }
      ]
    },
    {
      "cell_type": "markdown",
      "metadata": {
        "id": "3vr_IggyIdFA"
      },
      "source": [
        "#### Here we have to deal with only those sentiment which is either positive or negative any sentiment rather than positive and negative will be avoided"
      ]
    },
    {
      "cell_type": "code",
      "metadata": {
        "colab": {
          "base_uri": "https://localhost:8080/"
        },
        "id": "jZvzdWDYIb_0",
        "outputId": "e09b2faa-db03-4da6-a4f8-727e2a938f15"
      },
      "source": [
        "df=df[df[\"sentiment\"]!=\"neutral\"]\r\n",
        "df.shape"
      ],
      "execution_count": 7,
      "outputs": [
        {
          "output_type": "execute_result",
          "data": {
            "text/plain": [
              "(16363, 4)"
            ]
          },
          "metadata": {
            "tags": []
          },
          "execution_count": 7
        }
      ]
    },
    {
      "cell_type": "code",
      "metadata": {
        "colab": {
          "base_uri": "https://localhost:8080/"
        },
        "id": "pAh86URnI8o6",
        "outputId": "7d60a606-02d6-4a1e-a4c7-ef504d402c0a"
      },
      "source": [
        "df.sentiment.unique()   #checking unique sentiment after removing the neutral sentiment"
      ],
      "execution_count": 8,
      "outputs": [
        {
          "output_type": "execute_result",
          "data": {
            "text/plain": [
              "array(['negative', 'positive'], dtype=object)"
            ]
          },
          "metadata": {
            "tags": []
          },
          "execution_count": 8
        }
      ]
    },
    {
      "cell_type": "code",
      "metadata": {
        "colab": {
          "base_uri": "https://localhost:8080/"
        },
        "id": "gDT1XmToJFO7",
        "outputId": "ea7f599a-aca8-42b4-e26d-0d728f882990"
      },
      "source": [
        "df.isnull().values.any()    #is there any null values present in dataset or not"
      ],
      "execution_count": 9,
      "outputs": [
        {
          "output_type": "execute_result",
          "data": {
            "text/plain": [
              "False"
            ]
          },
          "metadata": {
            "tags": []
          },
          "execution_count": 9
        }
      ]
    },
    {
      "cell_type": "code",
      "metadata": {
        "colab": {
          "base_uri": "https://localhost:8080/"
        },
        "id": "5Ou6loJlJ2hx",
        "outputId": "307af572-e08b-498d-cbc7-ec2d285abd84"
      },
      "source": [
        "len(df)"
      ],
      "execution_count": 10,
      "outputs": [
        {
          "output_type": "execute_result",
          "data": {
            "text/plain": [
              "16363"
            ]
          },
          "metadata": {
            "tags": []
          },
          "execution_count": 10
        }
      ]
    },
    {
      "cell_type": "code",
      "metadata": {
        "colab": {
          "base_uri": "https://localhost:8080/"
        },
        "id": "rxdmeD7-esK9",
        "outputId": "531041fe-7246-46cb-cdfb-7aeff87c9c47"
      },
      "source": [
        "\r\n",
        "len(df[\"text\"])"
      ],
      "execution_count": 11,
      "outputs": [
        {
          "output_type": "execute_result",
          "data": {
            "text/plain": [
              "16363"
            ]
          },
          "metadata": {
            "tags": []
          },
          "execution_count": 11
        }
      ]
    },
    {
      "cell_type": "code",
      "metadata": {
        "id": "6k1tkZjFtX1a"
      },
      "source": [
        "#after removing all those neutral sentiment there index value will be null \r\n",
        "#by doing reset index we try to rearrange the index value after removing the dataset \r\n",
        "df=df.reset_index(drop=True)\r\n"
      ],
      "execution_count": 12,
      "outputs": []
    },
    {
      "cell_type": "code",
      "metadata": {
        "colab": {
          "base_uri": "https://localhost:8080/",
          "height": 197
        },
        "id": "OvEYGunr3pau",
        "outputId": "6c46a3a8-11e6-47d8-ba55-a455e5f8805a"
      },
      "source": [
        "df.head()"
      ],
      "execution_count": 13,
      "outputs": [
        {
          "output_type": "execute_result",
          "data": {
            "text/html": [
              "<div>\n",
              "<style scoped>\n",
              "    .dataframe tbody tr th:only-of-type {\n",
              "        vertical-align: middle;\n",
              "    }\n",
              "\n",
              "    .dataframe tbody tr th {\n",
              "        vertical-align: top;\n",
              "    }\n",
              "\n",
              "    .dataframe thead th {\n",
              "        text-align: right;\n",
              "    }\n",
              "</style>\n",
              "<table border=\"1\" class=\"dataframe\">\n",
              "  <thead>\n",
              "    <tr style=\"text-align: right;\">\n",
              "      <th></th>\n",
              "      <th>textID</th>\n",
              "      <th>text</th>\n",
              "      <th>selected_text</th>\n",
              "      <th>sentiment</th>\n",
              "    </tr>\n",
              "  </thead>\n",
              "  <tbody>\n",
              "    <tr>\n",
              "      <th>0</th>\n",
              "      <td>549e992a42</td>\n",
              "      <td>Sooo SAD I will miss you here in San Diego!!!</td>\n",
              "      <td>Sooo SAD</td>\n",
              "      <td>negative</td>\n",
              "    </tr>\n",
              "    <tr>\n",
              "      <th>1</th>\n",
              "      <td>088c60f138</td>\n",
              "      <td>my boss is bullying me...</td>\n",
              "      <td>bullying me</td>\n",
              "      <td>negative</td>\n",
              "    </tr>\n",
              "    <tr>\n",
              "      <th>2</th>\n",
              "      <td>9642c003ef</td>\n",
              "      <td>what interview! leave me alone</td>\n",
              "      <td>leave me alone</td>\n",
              "      <td>negative</td>\n",
              "    </tr>\n",
              "    <tr>\n",
              "      <th>3</th>\n",
              "      <td>358bd9e861</td>\n",
              "      <td>Sons of ****, why couldn`t they put them on t...</td>\n",
              "      <td>Sons of ****,</td>\n",
              "      <td>negative</td>\n",
              "    </tr>\n",
              "    <tr>\n",
              "      <th>4</th>\n",
              "      <td>6e0c6d75b1</td>\n",
              "      <td>2am feedings for the baby are fun when he is a...</td>\n",
              "      <td>fun</td>\n",
              "      <td>positive</td>\n",
              "    </tr>\n",
              "  </tbody>\n",
              "</table>\n",
              "</div>"
            ],
            "text/plain": [
              "       textID  ... sentiment\n",
              "0  549e992a42  ...  negative\n",
              "1  088c60f138  ...  negative\n",
              "2  9642c003ef  ...  negative\n",
              "3  358bd9e861  ...  negative\n",
              "4  6e0c6d75b1  ...  positive\n",
              "\n",
              "[5 rows x 4 columns]"
            ]
          },
          "metadata": {
            "tags": []
          },
          "execution_count": 13
        }
      ]
    },
    {
      "cell_type": "code",
      "metadata": {
        "colab": {
          "base_uri": "https://localhost:8080/"
        },
        "id": "XulEP3D_3qkx",
        "outputId": "bfca4413-8122-46c4-cf09-25d30df7e5e3"
      },
      "source": [
        "df.shape"
      ],
      "execution_count": 14,
      "outputs": [
        {
          "output_type": "execute_result",
          "data": {
            "text/plain": [
              "(16363, 4)"
            ]
          },
          "metadata": {
            "tags": []
          },
          "execution_count": 14
        }
      ]
    },
    {
      "cell_type": "code",
      "metadata": {
        "colab": {
          "base_uri": "https://localhost:8080/"
        },
        "id": "x-GVGlCF3v8k",
        "outputId": "e2336e51-d6f6-43ef-a553-a2df1a975dc3"
      },
      "source": [
        "#extracting dependent and independent variable\r\n",
        "X=df[\"text\"]\r\n",
        "print(X)\r\n",
        "Y=df[\"sentiment\"]\r\n",
        "print(\"\\n\",Y)"
      ],
      "execution_count": 15,
      "outputs": [
        {
          "output_type": "stream",
          "text": [
            "0            Sooo SAD I will miss you here in San Diego!!!\n",
            "1                                my boss is bullying me...\n",
            "2                           what interview! leave me alone\n",
            "3         Sons of ****, why couldn`t they put them on t...\n",
            "4        2am feedings for the baby are fun when he is a...\n",
            "                               ...                        \n",
            "16358                                       enjoy ur night\n",
            "16359     wish we could come see u on Denver  husband l...\n",
            "16360     I`ve wondered about rake to.  The client has ...\n",
            "16361     Yay good for both of you. Enjoy the break - y...\n",
            "16362                           But it was worth it  ****.\n",
            "Name: text, Length: 16363, dtype: object\n",
            "\n",
            " 0        negative\n",
            "1        negative\n",
            "2        negative\n",
            "3        negative\n",
            "4        positive\n",
            "           ...   \n",
            "16358    positive\n",
            "16359    negative\n",
            "16360    negative\n",
            "16361    positive\n",
            "16362    positive\n",
            "Name: sentiment, Length: 16363, dtype: object\n"
          ],
          "name": "stdout"
        }
      ]
    },
    {
      "cell_type": "markdown",
      "metadata": {
        "id": "e_-wmDjI4YET"
      },
      "source": [
        "## Text preprocessing"
      ]
    },
    {
      "cell_type": "code",
      "metadata": {
        "colab": {
          "base_uri": "https://localhost:8080/"
        },
        "id": "VJ6k4wl43utX",
        "outputId": "71f8adf9-0d90-4e94-f536-6ba6e42066bb"
      },
      "source": [
        "import re\r\n",
        "import string\r\n",
        "import nltk\r\n",
        "from nltk.corpus import stopwords\r\n",
        "from nltk.stem.porter import PorterStemmer\r\n",
        "nltk.download(\"stopwords\")\r\n",
        "porter=PorterStemmer()"
      ],
      "execution_count": 16,
      "outputs": [
        {
          "output_type": "stream",
          "text": [
            "[nltk_data] Downloading package stopwords to /root/nltk_data...\n",
            "[nltk_data]   Package stopwords is already up-to-date!\n"
          ],
          "name": "stdout"
        }
      ]
    },
    {
      "cell_type": "code",
      "metadata": {
        "id": "aHs7AXXK4bZS"
      },
      "source": [
        "filtered_sent=[]\r\n",
        "for i in range(len(X)):\r\n",
        "    cleaned=re.sub(r\"[^a-zA-Z]\",\" \",X[i])   #removing all the value except alphabetical character\r\n",
        "    cleaned=re.sub(r\"[^\\w\\s]\",\" \",cleaned)  #removing whitespace and punctuation\r\n",
        "    cleaned=re.sub(r\"<[^>]*>\",\" \",cleaned)\r\n",
        "    cleaned=cleaned.lower()                 #converting all the text into lower case letter\r\n",
        "    cleaned=cleaned.split()                 #tokenize the data into word_tokens\r\n",
        "    cleaned=[porter.stem(word) for word in cleaned if not word in stopwords.words(\"english\") if len(word)>2]   #stemming and taking word with length greater than 2 only\r\n",
        "    cleaned=\" \".join(cleaned)\r\n",
        "    filtered_sent.append(cleaned)\r\n"
      ],
      "execution_count": 24,
      "outputs": []
    },
    {
      "cell_type": "code",
      "metadata": {
        "colab": {
          "base_uri": "https://localhost:8080/"
        },
        "id": "jmFC4MK_4vWH",
        "outputId": "7634256e-31e0-4952-deee-20c239b48c2f"
      },
      "source": [
        "filtered_sent[100:110] #cleaned text data"
      ],
      "execution_count": 25,
      "outputs": [
        {
          "output_type": "execute_result",
          "data": {
            "text/plain": [
              "['first night myer lydia actual excit summer',\n",
              " 'good morn',\n",
              " 'best show ever',\n",
              " 'url previou post timer job http bit fdb remov space mess url',\n",
              " 'even nooooo secret namerebecca pleas',\n",
              " 'miss neic wait see bad grown lol',\n",
              " 'realli hope car ill termin',\n",
              " 'watch men origin wolverin total love haha',\n",
              " 'vote person myspac keep talk fake help thru hrdest time life',\n",
              " 'sad miss guy last night']"
            ]
          },
          "metadata": {
            "tags": []
          },
          "execution_count": 25
        }
      ]
    },
    {
      "cell_type": "markdown",
      "metadata": {
        "id": "OBGkBgoW7EX_"
      },
      "source": [
        "## Feature Engineering steps\r\n"
      ]
    },
    {
      "cell_type": "code",
      "metadata": {
        "colab": {
          "base_uri": "https://localhost:8080/"
        },
        "id": "GRdtfqQw6slw",
        "outputId": "d7e0ac3b-ace3-464e-8dd7-cda98fb54018"
      },
      "source": [
        "Y.unique()"
      ],
      "execution_count": 26,
      "outputs": [
        {
          "output_type": "execute_result",
          "data": {
            "text/plain": [
              "array(['negative', 'positive'], dtype=object)"
            ]
          },
          "metadata": {
            "tags": []
          },
          "execution_count": 26
        }
      ]
    },
    {
      "cell_type": "markdown",
      "metadata": {
        "id": "lBWJMX-H7KAF"
      },
      "source": [
        "#### As we can see above the values of Y are in categorical format which cannot be detected my machine so we will convert these categrical variable into numerical variable by using dummy variables"
      ]
    },
    {
      "cell_type": "code",
      "metadata": {
        "colab": {
          "base_uri": "https://localhost:8080/",
          "height": 406
        },
        "id": "I3Pmv1qJ7Isc",
        "outputId": "6a51728d-09af-44a0-9545-ab204a39ce47"
      },
      "source": [
        "Y=pd.get_dummies(Y,drop_first=True)\r\n",
        "Y"
      ],
      "execution_count": 27,
      "outputs": [
        {
          "output_type": "execute_result",
          "data": {
            "text/html": [
              "<div>\n",
              "<style scoped>\n",
              "    .dataframe tbody tr th:only-of-type {\n",
              "        vertical-align: middle;\n",
              "    }\n",
              "\n",
              "    .dataframe tbody tr th {\n",
              "        vertical-align: top;\n",
              "    }\n",
              "\n",
              "    .dataframe thead th {\n",
              "        text-align: right;\n",
              "    }\n",
              "</style>\n",
              "<table border=\"1\" class=\"dataframe\">\n",
              "  <thead>\n",
              "    <tr style=\"text-align: right;\">\n",
              "      <th></th>\n",
              "      <th>positive</th>\n",
              "    </tr>\n",
              "  </thead>\n",
              "  <tbody>\n",
              "    <tr>\n",
              "      <th>0</th>\n",
              "      <td>0</td>\n",
              "    </tr>\n",
              "    <tr>\n",
              "      <th>1</th>\n",
              "      <td>0</td>\n",
              "    </tr>\n",
              "    <tr>\n",
              "      <th>2</th>\n",
              "      <td>0</td>\n",
              "    </tr>\n",
              "    <tr>\n",
              "      <th>3</th>\n",
              "      <td>0</td>\n",
              "    </tr>\n",
              "    <tr>\n",
              "      <th>4</th>\n",
              "      <td>1</td>\n",
              "    </tr>\n",
              "    <tr>\n",
              "      <th>...</th>\n",
              "      <td>...</td>\n",
              "    </tr>\n",
              "    <tr>\n",
              "      <th>16358</th>\n",
              "      <td>1</td>\n",
              "    </tr>\n",
              "    <tr>\n",
              "      <th>16359</th>\n",
              "      <td>0</td>\n",
              "    </tr>\n",
              "    <tr>\n",
              "      <th>16360</th>\n",
              "      <td>0</td>\n",
              "    </tr>\n",
              "    <tr>\n",
              "      <th>16361</th>\n",
              "      <td>1</td>\n",
              "    </tr>\n",
              "    <tr>\n",
              "      <th>16362</th>\n",
              "      <td>1</td>\n",
              "    </tr>\n",
              "  </tbody>\n",
              "</table>\n",
              "<p>16363 rows × 1 columns</p>\n",
              "</div>"
            ],
            "text/plain": [
              "       positive\n",
              "0             0\n",
              "1             0\n",
              "2             0\n",
              "3             0\n",
              "4             1\n",
              "...         ...\n",
              "16358         1\n",
              "16359         0\n",
              "16360         0\n",
              "16361         1\n",
              "16362         1\n",
              "\n",
              "[16363 rows x 1 columns]"
            ]
          },
          "metadata": {
            "tags": []
          },
          "execution_count": 27
        }
      ]
    },
    {
      "cell_type": "markdown",
      "metadata": {
        "id": "wqdCeOHMKWQy"
      },
      "source": [
        "## Data visualization of tweets"
      ]
    },
    {
      "cell_type": "markdown",
      "metadata": {
        "id": "Z38R5Iw_8QPH"
      },
      "source": [
        "## Word Embedding for textual data"
      ]
    },
    {
      "cell_type": "code",
      "metadata": {
        "id": "vmePrqe58T5H",
        "colab": {
          "base_uri": "https://localhost:8080/"
        },
        "outputId": "c626f1ac-b888-4154-9b25-161ec51c8d11"
      },
      "source": [
        "#encoding data using one hot encoding\r\n",
        "encoded_X=[one_hot(word,len(filtered_sent)) for word in filtered_sent]\r\n",
        "encoded_X[100:110]"
      ],
      "execution_count": 30,
      "outputs": [
        {
          "output_type": "execute_result",
          "data": {
            "text/plain": [
              "[[1886, 5883, 3966, 9086, 10626, 7710, 12075],\n",
              " [5516, 8063],\n",
              " [12980, 1229, 8538],\n",
              " [9703, 2061, 3362, 9542, 13816, 6594, 15931, 3083, 11081, 15081, 8176, 9703],\n",
              " [14823, 9495, 5438, 7707, 9310],\n",
              " [10261, 6091, 9822, 9703, 3836, 16139, 13697],\n",
              " [9829, 7145, 13257, 1109, 8494],\n",
              " [12469, 9862, 3010, 15398, 14405, 16349, 8269],\n",
              " [9954, 8328, 1749, 7945, 6550, 3250, 15678, 12086, 4098, 13747, 4365],\n",
              " [12779, 10261, 9962, 10383, 5883]]"
            ]
          },
          "metadata": {
            "tags": []
          },
          "execution_count": 30
        }
      ]
    },
    {
      "cell_type": "code",
      "metadata": {
        "colab": {
          "base_uri": "https://localhost:8080/",
          "height": 35
        },
        "id": "MLOFV1Jd82vJ",
        "outputId": "e713631f-037c-49a1-aff2-8cf9fb69513a"
      },
      "source": [
        "filtered_sent[0]"
      ],
      "execution_count": 31,
      "outputs": [
        {
          "output_type": "execute_result",
          "data": {
            "application/vnd.google.colaboratory.intrinsic+json": {
              "type": "string"
            },
            "text/plain": [
              "'sooo sad miss san diego'"
            ]
          },
          "metadata": {
            "tags": []
          },
          "execution_count": 31
        }
      ]
    },
    {
      "cell_type": "code",
      "metadata": {
        "colab": {
          "base_uri": "https://localhost:8080/"
        },
        "id": "Jh2CTuCa9jv9",
        "outputId": "0b27a563-7f4b-42ce-c359-f9c0475e50aa"
      },
      "source": [
        "encoded_X[0]"
      ],
      "execution_count": 34,
      "outputs": [
        {
          "output_type": "execute_result",
          "data": {
            "text/plain": [
              "[2397, 12779, 10261, 9591, 7134]"
            ]
          },
          "metadata": {
            "tags": []
          },
          "execution_count": 34
        }
      ]
    },
    {
      "cell_type": "code",
      "metadata": {
        "colab": {
          "base_uri": "https://localhost:8080/"
        },
        "id": "h2-H0BIa9rOl",
        "outputId": "5261c542-1868-4d20-ebed-5211ba9abd89"
      },
      "source": [
        "# applying padding into data so that we will have each and every text is of same shape\r\n",
        "len_sent=15    # each sentence will have length as 12\r\n",
        "pad_X=pad_sequences(encoded_X,maxlen=len_sent,padding=\"post\")\r\n",
        "pad_X[100:110]"
      ],
      "execution_count": 35,
      "outputs": [
        {
          "output_type": "execute_result",
          "data": {
            "text/plain": [
              "array([[ 1886,  5883,  3966,  9086, 10626,  7710, 12075,     0,     0,\n",
              "            0,     0,     0,     0,     0,     0],\n",
              "       [ 5516,  8063,     0,     0,     0,     0,     0,     0,     0,\n",
              "            0,     0,     0,     0,     0,     0],\n",
              "       [12980,  1229,  8538,     0,     0,     0,     0,     0,     0,\n",
              "            0,     0,     0,     0,     0,     0],\n",
              "       [ 9703,  2061,  3362,  9542, 13816,  6594, 15931,  3083, 11081,\n",
              "        15081,  8176,  9703,     0,     0,     0],\n",
              "       [14823,  9495,  5438,  7707,  9310,     0,     0,     0,     0,\n",
              "            0,     0,     0,     0,     0,     0],\n",
              "       [10261,  6091,  9822,  9703,  3836, 16139, 13697,     0,     0,\n",
              "            0,     0,     0,     0,     0,     0],\n",
              "       [ 9829,  7145, 13257,  1109,  8494,     0,     0,     0,     0,\n",
              "            0,     0,     0,     0,     0,     0],\n",
              "       [12469,  9862,  3010, 15398, 14405, 16349,  8269,     0,     0,\n",
              "            0,     0,     0,     0,     0,     0],\n",
              "       [ 9954,  8328,  1749,  7945,  6550,  3250, 15678, 12086,  4098,\n",
              "        13747,  4365,     0,     0,     0,     0],\n",
              "       [12779, 10261,  9962, 10383,  5883,     0,     0,     0,     0,\n",
              "            0,     0,     0,     0,     0,     0]], dtype=int32)"
            ]
          },
          "metadata": {
            "tags": []
          },
          "execution_count": 35
        }
      ]
    },
    {
      "cell_type": "code",
      "metadata": {
        "colab": {
          "base_uri": "https://localhost:8080/"
        },
        "id": "0zPN00Tg_X9_",
        "outputId": "60aafa01-e1f3-44df-ab95-ae959e1a9dc0"
      },
      "source": [
        "model=Sequential()   #creating sequential pipeline of the model\r\n",
        "model.add(Embedding(len(df),50,input_length=len_sent))   #adding embedding into pipeline\r\n",
        "model.add(LSTM(128,dropout=0.2,recurrent_dropout=0.2,return_sequences=True))  #adding lstm cell into model \r\n",
        "model.add(LSTM(128,dropout=0.2,recurrent_dropout=0.2,return_sequences=True)) \r\n",
        "model.add(LSTM(128,dropout=0.2,recurrent_dropout=0.2,return_sequences=False)) \r\n",
        "model.add(Dense(1,activation=\"sigmoid\"))\r\n",
        "model.compile(loss=\"binary_crossentropy\",optimizer=\"adam\",metrics=[\"accuracy\"])\r\n",
        "model.summary()"
      ],
      "execution_count": 36,
      "outputs": [
        {
          "output_type": "stream",
          "text": [
            "Model: \"sequential\"\n",
            "_________________________________________________________________\n",
            "Layer (type)                 Output Shape              Param #   \n",
            "=================================================================\n",
            "embedding (Embedding)        (None, 15, 50)            818150    \n",
            "_________________________________________________________________\n",
            "lstm (LSTM)                  (None, 15, 128)           91648     \n",
            "_________________________________________________________________\n",
            "lstm_1 (LSTM)                (None, 15, 128)           131584    \n",
            "_________________________________________________________________\n",
            "lstm_2 (LSTM)                (None, 128)               131584    \n",
            "_________________________________________________________________\n",
            "dense (Dense)                (None, 1)                 129       \n",
            "=================================================================\n",
            "Total params: 1,173,095\n",
            "Trainable params: 1,173,095\n",
            "Non-trainable params: 0\n",
            "_________________________________________________________________\n"
          ],
          "name": "stdout"
        }
      ]
    },
    {
      "cell_type": "code",
      "metadata": {
        "colab": {
          "base_uri": "https://localhost:8080/"
        },
        "id": "Cdrg6ju4CGrt",
        "outputId": "778be4a7-43ac-4c40-c12a-32264afeb59f"
      },
      "source": [
        "# taking dataset as independent and dependent feature in numerical space\r\n",
        "X=np.array(pad_X)\r\n",
        "X.shape"
      ],
      "execution_count": 37,
      "outputs": [
        {
          "output_type": "execute_result",
          "data": {
            "text/plain": [
              "(16363, 15)"
            ]
          },
          "metadata": {
            "tags": []
          },
          "execution_count": 37
        }
      ]
    },
    {
      "cell_type": "code",
      "metadata": {
        "colab": {
          "base_uri": "https://localhost:8080/"
        },
        "id": "Oo7R8xMcCz0f",
        "outputId": "f6895b05-844f-425a-aceb-bb8202a4246d"
      },
      "source": [
        "Y=np.array(Y).reshape(-1,1)\r\n",
        "Y.shape"
      ],
      "execution_count": 38,
      "outputs": [
        {
          "output_type": "execute_result",
          "data": {
            "text/plain": [
              "(16363, 1)"
            ]
          },
          "metadata": {
            "tags": []
          },
          "execution_count": 38
        }
      ]
    },
    {
      "cell_type": "code",
      "metadata": {
        "colab": {
          "base_uri": "https://localhost:8080/"
        },
        "id": "eqKJK2RRDHrU",
        "outputId": "b09996e7-d971-4534-cf88-dd4c359f2a56"
      },
      "source": [
        "from sklearn.model_selection import train_test_split\r\n",
        "X_train,X_test,Y_train,Y_test=train_test_split(X,Y,test_size=0.2,random_state=12)\r\n",
        "print(X_train.shape)\r\n",
        "print(X_test.shape)\r\n",
        "print(Y_train.shape)\r\n",
        "print(Y_test.shape)"
      ],
      "execution_count": 39,
      "outputs": [
        {
          "output_type": "stream",
          "text": [
            "(13090, 15)\n",
            "(3273, 15)\n",
            "(13090, 1)\n",
            "(3273, 1)\n"
          ],
          "name": "stdout"
        }
      ]
    },
    {
      "cell_type": "code",
      "metadata": {
        "colab": {
          "base_uri": "https://localhost:8080/"
        },
        "id": "V62PAdjEDuOZ",
        "outputId": "aa9366ee-d3ef-4430-9dde-e6d0c6487989"
      },
      "source": [
        "#let i have taken batch size as 50\r\n",
        "batch_size=50\r\n",
        "model.fit(X_train,Y_train,batch_size=batch_size,epochs=10,verbose=1,validation_data=(X_test,Y_test))\r\n"
      ],
      "execution_count": 40,
      "outputs": [
        {
          "output_type": "stream",
          "text": [
            "Epoch 1/10\n",
            "262/262 [==============================] - 49s 159ms/step - loss: 0.5218 - accuracy: 0.7154 - val_loss: 0.3395 - val_accuracy: 0.8527\n",
            "Epoch 2/10\n",
            "262/262 [==============================] - 42s 159ms/step - loss: 0.2445 - accuracy: 0.9041 - val_loss: 0.3540 - val_accuracy: 0.8521\n",
            "Epoch 3/10\n",
            "262/262 [==============================] - 42s 159ms/step - loss: 0.1946 - accuracy: 0.9305 - val_loss: 0.4034 - val_accuracy: 0.8390\n",
            "Epoch 4/10\n",
            "262/262 [==============================] - 41s 158ms/step - loss: 0.1549 - accuracy: 0.9459 - val_loss: 0.3937 - val_accuracy: 0.8298\n",
            "Epoch 5/10\n",
            "262/262 [==============================] - 42s 160ms/step - loss: 0.1399 - accuracy: 0.9537 - val_loss: 0.4508 - val_accuracy: 0.8301\n",
            "Epoch 6/10\n",
            "262/262 [==============================] - 42s 159ms/step - loss: 0.1185 - accuracy: 0.9604 - val_loss: 0.4926 - val_accuracy: 0.8203\n",
            "Epoch 7/10\n",
            "262/262 [==============================] - 41s 158ms/step - loss: 0.1074 - accuracy: 0.9658 - val_loss: 0.6446 - val_accuracy: 0.8124\n",
            "Epoch 8/10\n",
            "262/262 [==============================] - 41s 158ms/step - loss: 0.1006 - accuracy: 0.9651 - val_loss: 0.5544 - val_accuracy: 0.8170\n",
            "Epoch 9/10\n",
            "262/262 [==============================] - 41s 157ms/step - loss: 0.0898 - accuracy: 0.9692 - val_loss: 0.7934 - val_accuracy: 0.8142\n",
            "Epoch 10/10\n",
            "262/262 [==============================] - 41s 157ms/step - loss: 0.0825 - accuracy: 0.9706 - val_loss: 0.6919 - val_accuracy: 0.8118\n"
          ],
          "name": "stdout"
        },
        {
          "output_type": "execute_result",
          "data": {
            "text/plain": [
              "<tensorflow.python.keras.callbacks.History at 0x7fb1342830f0>"
            ]
          },
          "metadata": {
            "tags": []
          },
          "execution_count": 40
        }
      ]
    },
    {
      "cell_type": "code",
      "metadata": {
        "colab": {
          "base_uri": "https://localhost:8080/"
        },
        "id": "4s1EeF7mEb44",
        "outputId": "b30ce5dc-ee82-42d3-b739-672fb1e47e22"
      },
      "source": [
        "y_predicted=model.predict_classes(X_test)\r\n",
        "y_predicted"
      ],
      "execution_count": 41,
      "outputs": [
        {
          "output_type": "stream",
          "text": [
            "/usr/local/lib/python3.6/dist-packages/tensorflow/python/keras/engine/sequential.py:450: UserWarning: `model.predict_classes()` is deprecated and will be removed after 2021-01-01. Please use instead:* `np.argmax(model.predict(x), axis=-1)`,   if your model does multi-class classification   (e.g. if it uses a `softmax` last-layer activation).* `(model.predict(x) > 0.5).astype(\"int32\")`,   if your model does binary classification   (e.g. if it uses a `sigmoid` last-layer activation).\n",
            "  warnings.warn('`model.predict_classes()` is deprecated and '\n"
          ],
          "name": "stderr"
        },
        {
          "output_type": "execute_result",
          "data": {
            "text/plain": [
              "array([[1],\n",
              "       [0],\n",
              "       [1],\n",
              "       ...,\n",
              "       [1],\n",
              "       [0],\n",
              "       [1]], dtype=int32)"
            ]
          },
          "metadata": {
            "tags": []
          },
          "execution_count": 41
        }
      ]
    },
    {
      "cell_type": "code",
      "metadata": {
        "colab": {
          "base_uri": "https://localhost:8080/"
        },
        "id": "CsjzeC6iHY1Y",
        "outputId": "86a2e0a3-62cc-4192-fdbf-620c47c92aa5"
      },
      "source": [
        "score,accuracy=model.evaluate(X_test,Y_test,batch_size=batch_size)\r\n",
        "print(accuracy)"
      ],
      "execution_count": 42,
      "outputs": [
        {
          "output_type": "stream",
          "text": [
            "66/66 [==============================] - 1s 20ms/step - loss: 0.6919 - accuracy: 0.8118\n",
            "0.8117934465408325\n"
          ],
          "name": "stdout"
        }
      ]
    },
    {
      "cell_type": "code",
      "metadata": {
        "colab": {
          "base_uri": "https://localhost:8080/",
          "height": 536
        },
        "id": "R9s5FXKLH1lc",
        "outputId": "6c568eab-7c99-4068-83db-11b9824d9ef9"
      },
      "source": [
        "import scikitplot as splt\r\n",
        "from sklearn import metrics\r\n",
        "splt.metrics.plot_confusion_matrix(Y_test,y_predicted,figsize=(10,8),text_fontsize=\"large\")"
      ],
      "execution_count": 43,
      "outputs": [
        {
          "output_type": "execute_result",
          "data": {
            "text/plain": [
              "<matplotlib.axes._subplots.AxesSubplot at 0x7fb12fa4d1d0>"
            ]
          },
          "metadata": {
            "tags": []
          },
          "execution_count": 43
        },
        {
          "output_type": "display_data",
          "data": {
            "image/png": "[encoded data removed]",
            "text/plain": [
              "<Figure size 720x576 with 2 Axes>"
            ]
          },
          "metadata": {
            "tags": [],
            "needs_background": "light"
          }
        }
      ]
    },
    {
      "cell_type": "code",
      "metadata": {
        "id": "VKH7oZgtI8Jd"
      },
      "source": [
        "# predicting sentiment for any text\r\n",
        "def predict_sentiment(text):\r\n",
        "  #text pre processing\r\n",
        "  encoded_text=[one_hot(word,15) for word in text]\r\n",
        "  pad_text=pad_sequences(encoded_text,maxlen=15,padding=\"post\")\r\n",
        "  predicted_sentiment=model.predict(pad_text).round()\r\n",
        "  if predicted_sentiment == 1.0:\r\n",
        "    return \"Positive Sentiment\"\r\n",
        "  else:\r\n",
        "    return \"negative Sentiment\""
      ],
      "execution_count": 77,
      "outputs": []
    },
    {
      "cell_type": "markdown",
      "metadata": {
        "id": "Hllv9e8OiYfg"
      },
      "source": [
        "## Let's Check the setiment on politician tweets\r\n",
        " I Am taking Narendra modi's republic day tweet to check the sentiment whether it is positive or negative"
      ]
    },
    {
      "cell_type": "code",
      "metadata": {
        "colab": {
          "base_uri": "https://localhost:8080/",
          "height": 35
        },
        "id": "sdlVw8OvVphE",
        "outputId": "9ce86daa-37ef-4afc-be92-938706e04175"
      },
      "source": [
        "predict_sentiment([\"We are proud of all those who have been conferred the Padma Awards\"])"
      ],
      "execution_count": 79,
      "outputs": [
        {
          "output_type": "execute_result",
          "data": {
            "application/vnd.google.colaboratory.intrinsic+json": {
              "type": "string"
            },
            "text/plain": [
              "'Positive Sentiment'"
            ]
          },
          "metadata": {
            "tags": []
          },
          "execution_count": 79
        }
      ]
    }
  ]
}